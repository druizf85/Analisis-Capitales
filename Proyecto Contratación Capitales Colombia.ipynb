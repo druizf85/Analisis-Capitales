{
 "cells": [
  {
   "cell_type": "markdown",
   "metadata": {},
   "source": [
    "Se importan las librerías que se usarán en este proyecto"
   ]
  },
  {
   "cell_type": "code",
   "execution_count": 26,
   "metadata": {},
   "outputs": [],
   "source": [
    "import pandas as pd\n",
    "import requests\n",
    "import json\n",
    "from urllib.parse import urlencode\n",
    "import matplotlib.pyplot as plt\n",
    "from datetime import date"
   ]
  },
  {
   "cell_type": "markdown",
   "metadata": {},
   "source": [
    "A continuación se va a construir una URL para hacer una solicitud a una API web, para este caso SECOP II - Contratos Electrónicos."
   ]
  },
  {
   "cell_type": "code",
   "execution_count": 27,
   "metadata": {},
   "outputs": [],
   "source": [
    "base_url = '***************************.com'"
   ]
  },
  {
   "cell_type": "markdown",
   "metadata": {},
   "source": [
    "Se indica el usuario y contraseña del acceso."
   ]
  },
  {
   "cell_type": "code",
   "execution_count": 28,
   "metadata": {},
   "outputs": [],
   "source": [
    "\n",
    "username = '*******@ejemplo.com'\n",
    "password = '*******'"
   ]
  },
  {
   "cell_type": "code",
   "execution_count": 29,
   "metadata": {},
   "outputs": [],
   "source": [
    "limit = 1000000  \n",
    "params = urlencode({'$limit': limit})\n",
    "url = f'{base_url}?{params}'"
   ]
  },
  {
   "cell_type": "markdown",
   "metadata": {},
   "source": [
    "Se hace una solicitud HTTP GET a la URL construida anteriormente utilizando la biblioteca requests. Luego, la informaciòn que está en formato JSON se debe transformar en un objeto de python, luego en una dataframe con pandas. Si la solicitud no fue exitosa, se solicita que indique que hay un error en la solicitud a la API. "
   ]
  },
  {
   "cell_type": "code",
   "execution_count": 30,
   "metadata": {},
   "outputs": [],
   "source": [
    "response = requests.get(url, auth=(username, password))\n",
    "\n",
    "if response.status_code == 200:\n",
    "    data = response.json()\n",
    "    df = pd.DataFrame(data)\n",
    "else:\n",
    "    print('Error en la solicitud a la API:', response.status_code)"
   ]
  },
  {
   "cell_type": "markdown",
   "metadata": {},
   "source": [
    "Verificamos las dimensiones de la base de datos que acabamos de crear."
   ]
  },
  {
   "cell_type": "code",
   "execution_count": 33,
   "metadata": {},
   "outputs": [
    {
     "data": {
      "text/plain": [
       "(131062, 72)"
      ]
     },
     "execution_count": 33,
     "metadata": {},
     "output_type": "execute_result"
    }
   ],
   "source": [
    "df.shape"
   ]
  },
  {
   "cell_type": "markdown",
   "metadata": {},
   "source": [
    "Ahora revisamos las columnas que componen la base de datos."
   ]
  },
  {
   "cell_type": "code",
   "execution_count": 34,
   "metadata": {},
   "outputs": [
    {
     "data": {
      "text/plain": [
       "Index(['nombre_entidad', 'nit_entidad', 'departamento', 'ciudad',\n",
       "       'localizaci_n', 'orden', 'sector', 'rama', 'entidad_centralizada',\n",
       "       'proceso_de_compra', 'id_contrato', 'referencia_del_contrato',\n",
       "       'estado_contrato', 'codigo_de_categoria_principal',\n",
       "       'descripcion_del_proceso', 'tipo_de_contrato',\n",
       "       'modalidad_de_contratacion', 'justificacion_modalidad_de',\n",
       "       'fecha_de_firma', 'fecha_de_inicio_del_contrato',\n",
       "       'fecha_de_fin_del_contrato', 'condiciones_de_entrega',\n",
       "       'tipodocproveedor', 'documento_proveedor', 'proveedor_adjudicado',\n",
       "       'es_grupo', 'es_pyme', 'habilita_pago_adelantado', 'liquidaci_n',\n",
       "       'obligaci_n_ambiental', 'obligaciones_postconsumo', 'reversion',\n",
       "       'origen_de_los_recursos', 'destino_gasto', 'valor_del_contrato',\n",
       "       'valor_de_pago_adelantado', 'valor_facturado',\n",
       "       'valor_pendiente_de_pago', 'valor_pagado', 'valor_amortizado',\n",
       "       'valor_pendiente_de', 'valor_pendiente_de_ejecucion', 'estado_bpin',\n",
       "       'c_digo_bpin', 'anno_bpin', 'saldo_cdp', 'saldo_vigencia',\n",
       "       'espostconflicto', 'dias_adicionados', 'puntos_del_acuerdo',\n",
       "       'pilares_del_acuerdo', 'urlproceso', 'nombre_representante_legal',\n",
       "       'nacionalidad_representante_legal', 'domicilio_representante_legal',\n",
       "       'tipo_de_identificaci_n_representante_legal',\n",
       "       'identificaci_n_representante_legal', 'g_nero_representante_legal',\n",
       "       'presupuesto_general_de_la_nacion_pgn',\n",
       "       'sistema_general_de_participaciones', 'sistema_general_de_regal_as',\n",
       "       'recursos_propios_alcald_as_gobernaciones_y_resguardos_ind_genas_',\n",
       "       'recursos_de_credito', 'recursos_propios', 'ultima_actualizacion',\n",
       "       'codigo_entidad', 'codigo_proveedor', 'objeto_del_contrato',\n",
       "       'fecha_inicio_liquidacion', 'fecha_fin_liquidacion',\n",
       "       'fecha_de_inicio_de_ejecucion', 'fecha_de_fin_de_ejecucion'],\n",
       "      dtype='object')"
      ]
     },
     "execution_count": 34,
     "metadata": {},
     "output_type": "execute_result"
    }
   ],
   "source": [
    "df.columns"
   ]
  },
  {
   "cell_type": "markdown",
   "metadata": {},
   "source": [
    "Se puede evidenciar que los nombres de las columnas para esta base de datos vienen con una parametrización, la fuente de datos de la que se está usando en este ejercicio nos muestra los Nombres de cada campo, estos nombres se encuentran en el archivo adjunto llamado 'Nombres columnas', vamos a realizar los respectivos reemplazos creando un diccionario a continuación."
   ]
  },
  {
   "cell_type": "code",
   "execution_count": 35,
   "metadata": {},
   "outputs": [],
   "source": [
    "reemplazos_columnas = {\n",
    "    'nombre_entidad': 'Nombre Entidad',\n",
    "    'nit_entidad': 'Nit Entidad',\n",
    "    'departamento': 'Departamento',\n",
    "    'ciudad': 'Ciudad',\n",
    "    'localizaci_n': 'Localización',\n",
    "    'orden': 'Orden',\n",
    "    'sector': 'Sector',\n",
    "    'rama': 'Rama',\n",
    "    'entidad_centralizada': 'Entidad Centralizada',\n",
    "    'proceso_de_compra': 'Proceso de Compra',\n",
    "    'id_contrato': 'ID Contrato',\n",
    "    'referencia_del_contrato': 'Referencia del Contrato',\n",
    "    'estado_contrato': 'Estado Contrato',\n",
    "    'codigo_de_categoria_principal': 'Codigo de Categoria Principal',\n",
    "    'descripcion_del_proceso': 'Descripcion del Proceso',\n",
    "    'tipo_de_contrato': 'Tipo de Contrato',\n",
    "    'modalidad_de_contratacion': 'Modalidad de Contratacion',\n",
    "    'justificacion_modalidad_de': 'Justificacion Modalidad de Contratacion',\n",
    "    'fecha_de_firma': 'Fecha de Firma',\n",
    "    'fecha_de_inicio_del_contrato': 'Fecha de Inicio del Contrato',\n",
    "    'fecha_de_fin_del_contrato': 'Fecha de Fin del Contrato',\n",
    "    'fecha_de_inicio_de_ejecucion': 'Fecha de Inicio de Ejecucion',\n",
    "    'fecha_de_fin_de_ejecucion': 'Fecha de Fin de Ejecucion',\n",
    "    'condiciones_de_entrega': 'Condiciones de Entrega',\n",
    "    'tipodocproveedor': 'TipoDocProveedor',\n",
    "    'documento_proveedor': 'Documento Proveedor',\n",
    "    'proveedor_adjudicado': 'Proveedor Adjudicado',\n",
    "    'es_grupo': 'Es Grupo',\n",
    "    'es_pyme': 'Es Pyme',\n",
    "    'habilita_pago_adelantado': 'Habilita Pago Adelantado',\n",
    "    'liquidaci_n': 'Liquidación',\n",
    "    'obligaci_n_ambiental': 'Obligación Ambiental',\n",
    "    'obligaciones_postconsumo': 'Obligaciones Postconsumo',\n",
    "    'reversion': 'Reversion',\n",
    "    'origen_de_los_recursos': 'Origen de los Recursos',\n",
    "    'destino_gasto': 'Destino Gasto',\n",
    "    'valor_del_contrato': 'Valor del Contrato',\n",
    "    'valor_de_pago_adelantado': 'Valor de pago adelantado',\n",
    "    'valor_facturado': 'Valor Facturado',\n",
    "    'valor_pendiente_de_pago': 'Valor Pendiente de Pago',\n",
    "    'valor_pagado': 'Valor Pagado',\n",
    "    'valor_amortizado': 'Valor Amortizado',\n",
    "    'valor_pendiente_de': 'Valor Pendiente de Amortizacion',\n",
    "    'valor_pendiente_de_ejecucion': 'Valor Pendiente de Ejecucion',\n",
    "    'estado_bpin': 'Estado BPIN',\n",
    "    'c_digo_bpin': 'Código BPIN',\n",
    "    'anno_bpin': 'Anno BPIN',\n",
    "    'saldo_cdp': 'Saldo CDP',\n",
    "    'saldo_vigencia': 'Saldo Vigencia',\n",
    "    'espostconflicto': 'EsPostConflicto',\n",
    "    'dias_adicionados': 'Dias adicionados',\n",
    "    'puntos_del_acuerdo': 'Puntos del Acuerdo',\n",
    "    'pilares_del_acuerdo': 'Pilares del Acuerdo',\n",
    "    'urlproceso': 'URLProceso',\n",
    "    'nombre_representante_legal': 'Nombre Representante Legal',\n",
    "    'nacionalidad_representante_legal': 'Nacionalidad Representante Legal',\n",
    "    'domicilio_representante_legal': 'Domicilio Representante Legal',\n",
    "    'tipo_de_identificaci_n_representante_legal': 'Tipo de Identificación Representante Legal',\n",
    "    'identificaci_n_representante_legal': 'Identificación Representante Legal',\n",
    "    'g_nero_representante_legal': 'Género Representante Legal',\n",
    "    'presupuesto_general_de_la_nacion_pgn': 'Presupuesto General de la Nacion – PGN',\n",
    "    'sistema_general_de_participaciones': 'Sistema General de Participaciones',\n",
    "    'sistema_general_de_regal_as': 'Sistema General de Regalías',\n",
    "    'recursos_propios_alcald_as_gobernaciones_y_resguardos_ind_genas_': 'Recursos Propios (Alcaldías, Gobernaciones y Resguardos Indígenas)',\n",
    "    'recursos_de_credito': 'Recursos de Credito',\n",
    "    'recursos_propios': 'Recursos Propios',\n",
    "    'ultima_actualizacion': 'Ultima Actualizacion',\n",
    "    'codigo_entidad': 'Codigo Entidad',\n",
    "    'codigo_proveedor': 'Codigo Proveedor',\n",
    "    'fecha_inicio_liquidacion': 'Fecha Inicio Liquidacion',\n",
    "    'fecha_fin_liquidacion': 'Fecha Fin Liquidacion',\n",
    "    'objeto_del_contrato': 'Objeto del Contrato'\n",
    "}\n",
    "\n",
    "df.rename(columns=reemplazos_columnas, inplace=True)"
   ]
  },
  {
   "cell_type": "markdown",
   "metadata": {},
   "source": [
    "Se comprueban los cambios realizados."
   ]
  },
  {
   "cell_type": "code",
   "execution_count": 36,
   "metadata": {},
   "outputs": [
    {
     "data": {
      "text/plain": [
       "Index(['Nombre Entidad', 'Nit Entidad', 'Departamento', 'Ciudad',\n",
       "       'Localización', 'Orden', 'Sector', 'Rama', 'Entidad Centralizada',\n",
       "       'Proceso de Compra', 'ID Contrato', 'Referencia del Contrato',\n",
       "       'Estado Contrato', 'Codigo de Categoria Principal',\n",
       "       'Descripcion del Proceso', 'Tipo de Contrato',\n",
       "       'Modalidad de Contratacion', 'Justificacion Modalidad de Contratacion',\n",
       "       'Fecha de Firma', 'Fecha de Inicio del Contrato',\n",
       "       'Fecha de Fin del Contrato', 'Condiciones de Entrega',\n",
       "       'TipoDocProveedor', 'Documento Proveedor', 'Proveedor Adjudicado',\n",
       "       'Es Grupo', 'Es Pyme', 'Habilita Pago Adelantado', 'Liquidación',\n",
       "       'Obligación Ambiental', 'Obligaciones Postconsumo', 'Reversion',\n",
       "       'Origen de los Recursos', 'Destino Gasto', 'Valor del Contrato',\n",
       "       'Valor de pago adelantado', 'Valor Facturado',\n",
       "       'Valor Pendiente de Pago', 'Valor Pagado', 'Valor Amortizado',\n",
       "       'Valor Pendiente de Amortizacion', 'Valor Pendiente de Ejecucion',\n",
       "       'Estado BPIN', 'Código BPIN', 'Anno BPIN', 'Saldo CDP',\n",
       "       'Saldo Vigencia', 'EsPostConflicto', 'Dias adicionados',\n",
       "       'Puntos del Acuerdo', 'Pilares del Acuerdo', 'URLProceso',\n",
       "       'Nombre Representante Legal', 'Nacionalidad Representante Legal',\n",
       "       'Domicilio Representante Legal',\n",
       "       'Tipo de Identificación Representante Legal',\n",
       "       'Identificación Representante Legal', 'Género Representante Legal',\n",
       "       'Presupuesto General de la Nacion – PGN',\n",
       "       'Sistema General de Participaciones', 'Sistema General de Regalías',\n",
       "       'Recursos Propios (Alcaldías, Gobernaciones y Resguardos Indígenas)',\n",
       "       'Recursos de Credito', 'Recursos Propios', 'Ultima Actualizacion',\n",
       "       'Codigo Entidad', 'Codigo Proveedor', 'Objeto del Contrato',\n",
       "       'Fecha Inicio Liquidacion', 'Fecha Fin Liquidacion',\n",
       "       'Fecha de Inicio de Ejecucion', 'Fecha de Fin de Ejecucion'],\n",
       "      dtype='object')"
      ]
     },
     "execution_count": 36,
     "metadata": {},
     "output_type": "execute_result"
    }
   ],
   "source": [
    "df.columns"
   ]
  },
  {
   "cell_type": "markdown",
   "metadata": {},
   "source": [
    "Adicionalmente, para facilitar la manipulaciòn de los datos, es necesario que los tìtulos de las columnas no tengan caracteres especiales y que queden mayusculas."
   ]
  },
  {
   "cell_type": "code",
   "execution_count": 37,
   "metadata": {},
   "outputs": [
    {
     "data": {
      "text/plain": [
       "Index(['NOMBRE ENTIDAD', 'NIT ENTIDAD', 'DEPARTAMENTO', 'CIUDAD',\n",
       "       'LOCALIZACIÓN', 'ORDEN', 'SECTOR', 'RAMA', 'ENTIDAD CENTRALIZADA',\n",
       "       'PROCESO DE COMPRA', 'ID CONTRATO', 'REFERENCIA DEL CONTRATO',\n",
       "       'ESTADO CONTRATO', 'CODIGO DE CATEGORIA PRINCIPAL',\n",
       "       'DESCRIPCION DEL PROCESO', 'TIPO DE CONTRATO',\n",
       "       'MODALIDAD DE CONTRATACION', 'JUSTIFICACION MODALIDAD DE CONTRATACION',\n",
       "       'FECHA DE FIRMA', 'FECHA DE INICIO DEL CONTRATO',\n",
       "       'FECHA DE FIN DEL CONTRATO', 'CONDICIONES DE ENTREGA',\n",
       "       'TIPODOCPROVEEDOR', 'DOCUMENTO PROVEEDOR', 'PROVEEDOR ADJUDICADO',\n",
       "       'ES GRUPO', 'ES PYME', 'HABILITA PAGO ADELANTADO', 'LIQUIDACIÓN',\n",
       "       'OBLIGACIÓN AMBIENTAL', 'OBLIGACIONES POSTCONSUMO', 'REVERSION',\n",
       "       'ORIGEN DE LOS RECURSOS', 'DESTINO GASTO', 'VALOR DEL CONTRATO',\n",
       "       'VALOR DE PAGO ADELANTADO', 'VALOR FACTURADO',\n",
       "       'VALOR PENDIENTE DE PAGO', 'VALOR PAGADO', 'VALOR AMORTIZADO',\n",
       "       'VALOR PENDIENTE DE AMORTIZACION', 'VALOR PENDIENTE DE EJECUCION',\n",
       "       'ESTADO BPIN', 'CÓDIGO BPIN', 'ANNO BPIN', 'SALDO CDP',\n",
       "       'SALDO VIGENCIA', 'ESPOSTCONFLICTO', 'DIAS ADICIONADOS',\n",
       "       'PUNTOS DEL ACUERDO', 'PILARES DEL ACUERDO', 'URLPROCESO',\n",
       "       'NOMBRE REPRESENTANTE LEGAL', 'NACIONALIDAD REPRESENTANTE LEGAL',\n",
       "       'DOMICILIO REPRESENTANTE LEGAL',\n",
       "       'TIPO DE IDENTIFICACIÓN REPRESENTANTE LEGAL',\n",
       "       'IDENTIFICACIÓN REPRESENTANTE LEGAL', 'GÉNERO REPRESENTANTE LEGAL',\n",
       "       'PRESUPUESTO GENERAL DE LA NACION – PGN',\n",
       "       'SISTEMA GENERAL DE PARTICIPACIONES', 'SISTEMA GENERAL DE REGALÍAS',\n",
       "       'RECURSOS PROPIOS (ALCALDÍAS, GOBERNACIONES Y RESGUARDOS INDÍGENAS)',\n",
       "       'RECURSOS DE CREDITO', 'RECURSOS PROPIOS', 'ULTIMA ACTUALIZACION',\n",
       "       'CODIGO ENTIDAD', 'CODIGO PROVEEDOR', 'OBJETO DEL CONTRATO',\n",
       "       'FECHA INICIO LIQUIDACION', 'FECHA FIN LIQUIDACION',\n",
       "       'FECHA DE INICIO DE EJECUCION', 'FECHA DE FIN DE EJECUCION'],\n",
       "      dtype='object')"
      ]
     },
     "execution_count": 37,
     "metadata": {},
     "output_type": "execute_result"
    }
   ],
   "source": [
    "cols=list(df.columns)\n",
    "cols=[x.upper().strip() for x in cols]\n",
    "df.columns=cols\n",
    "\n",
    "df.columns"
   ]
  },
  {
   "cell_type": "markdown",
   "metadata": {},
   "source": [
    "Ya se pueden evidenciar los cambios en los títulos de las columnas."
   ]
  },
  {
   "cell_type": "code",
   "execution_count": 38,
   "metadata": {},
   "outputs": [
    {
     "data": {
      "text/html": [
       "<div>\n",
       "<style scoped>\n",
       "    .dataframe tbody tr th:only-of-type {\n",
       "        vertical-align: middle;\n",
       "    }\n",
       "\n",
       "    .dataframe tbody tr th {\n",
       "        vertical-align: top;\n",
       "    }\n",
       "\n",
       "    .dataframe thead th {\n",
       "        text-align: right;\n",
       "    }\n",
       "</style>\n",
       "<table border=\"1\" class=\"dataframe\">\n",
       "  <thead>\n",
       "    <tr style=\"text-align: right;\">\n",
       "      <th></th>\n",
       "      <th>NOMBRE ENTIDAD</th>\n",
       "      <th>NIT ENTIDAD</th>\n",
       "      <th>DEPARTAMENTO</th>\n",
       "      <th>CIUDAD</th>\n",
       "      <th>LOCALIZACIÓN</th>\n",
       "      <th>ORDEN</th>\n",
       "      <th>SECTOR</th>\n",
       "      <th>RAMA</th>\n",
       "      <th>ENTIDAD CENTRALIZADA</th>\n",
       "      <th>PROCESO DE COMPRA</th>\n",
       "      <th>...</th>\n",
       "      <th>RECURSOS DE CREDITO</th>\n",
       "      <th>RECURSOS PROPIOS</th>\n",
       "      <th>ULTIMA ACTUALIZACION</th>\n",
       "      <th>CODIGO ENTIDAD</th>\n",
       "      <th>CODIGO PROVEEDOR</th>\n",
       "      <th>OBJETO DEL CONTRATO</th>\n",
       "      <th>FECHA INICIO LIQUIDACION</th>\n",
       "      <th>FECHA FIN LIQUIDACION</th>\n",
       "      <th>FECHA DE INICIO DE EJECUCION</th>\n",
       "      <th>FECHA DE FIN DE EJECUCION</th>\n",
       "    </tr>\n",
       "  </thead>\n",
       "  <tbody>\n",
       "    <tr>\n",
       "      <th>0</th>\n",
       "      <td>ICBF REGIONAL SANTANDER</td>\n",
       "      <td>8999992391</td>\n",
       "      <td>Santander</td>\n",
       "      <td>Bucaramanga</td>\n",
       "      <td>Colombia,  Santander ,  Bucaramanga</td>\n",
       "      <td>Nacional</td>\n",
       "      <td>Salud y Protección Social</td>\n",
       "      <td>Ejecutivo</td>\n",
       "      <td>Centralizada</td>\n",
       "      <td>CO1.BDOS.5359678</td>\n",
       "      <td>...</td>\n",
       "      <td>0</td>\n",
       "      <td>0</td>\n",
       "      <td>2024-04-22T00:00:00.000</td>\n",
       "      <td>704192574</td>\n",
       "      <td>702423252</td>\n",
       "      <td>Prestar los servicios de educación inicial en ...</td>\n",
       "      <td>NaN</td>\n",
       "      <td>NaN</td>\n",
       "      <td>NaN</td>\n",
       "      <td>NaN</td>\n",
       "    </tr>\n",
       "    <tr>\n",
       "      <th>1</th>\n",
       "      <td>ICBF REGIONAL SANTANDER</td>\n",
       "      <td>8999992391</td>\n",
       "      <td>Santander</td>\n",
       "      <td>Bucaramanga</td>\n",
       "      <td>Colombia,  Santander ,  Bucaramanga</td>\n",
       "      <td>Nacional</td>\n",
       "      <td>Salud y Protección Social</td>\n",
       "      <td>Ejecutivo</td>\n",
       "      <td>Centralizada</td>\n",
       "      <td>CO1.BDOS.5359678</td>\n",
       "      <td>...</td>\n",
       "      <td>0</td>\n",
       "      <td>0</td>\n",
       "      <td>2024-04-22T00:00:00.000</td>\n",
       "      <td>704192574</td>\n",
       "      <td>702423252</td>\n",
       "      <td>Prestar los servicios de educación inicial en ...</td>\n",
       "      <td>NaN</td>\n",
       "      <td>NaN</td>\n",
       "      <td>NaN</td>\n",
       "      <td>NaN</td>\n",
       "    </tr>\n",
       "    <tr>\n",
       "      <th>2</th>\n",
       "      <td>ICBF REGIONAL SANTANDER</td>\n",
       "      <td>8999992391</td>\n",
       "      <td>Santander</td>\n",
       "      <td>Bucaramanga</td>\n",
       "      <td>Colombia,  Santander ,  Bucaramanga</td>\n",
       "      <td>Nacional</td>\n",
       "      <td>Salud y Protección Social</td>\n",
       "      <td>Ejecutivo</td>\n",
       "      <td>Centralizada</td>\n",
       "      <td>CO1.BDOS.5359788</td>\n",
       "      <td>...</td>\n",
       "      <td>0</td>\n",
       "      <td>0</td>\n",
       "      <td>2024-03-27T00:00:00.000</td>\n",
       "      <td>704192574</td>\n",
       "      <td>709204515</td>\n",
       "      <td>Prestar los servicios para la atención a la pr...</td>\n",
       "      <td>NaN</td>\n",
       "      <td>NaN</td>\n",
       "      <td>NaN</td>\n",
       "      <td>NaN</td>\n",
       "    </tr>\n",
       "    <tr>\n",
       "      <th>3</th>\n",
       "      <td>MINISTERIO DE IGUALDAD Y EQUIDAD</td>\n",
       "      <td>901733502</td>\n",
       "      <td>Distrito Capital de Bogotá</td>\n",
       "      <td>Bogotá</td>\n",
       "      <td>Colombia, Bogotá,  Bogotá</td>\n",
       "      <td>Nacional</td>\n",
       "      <td>Servicio Público</td>\n",
       "      <td>Ejecutivo</td>\n",
       "      <td>Centralizada</td>\n",
       "      <td>CO1.BDOS.5359523</td>\n",
       "      <td>...</td>\n",
       "      <td>0</td>\n",
       "      <td>0</td>\n",
       "      <td>NaN</td>\n",
       "      <td>723231049</td>\n",
       "      <td>700569072</td>\n",
       "      <td>EL CEDENTE cede totalmente a partir del 1 de e...</td>\n",
       "      <td>NaN</td>\n",
       "      <td>NaN</td>\n",
       "      <td>NaN</td>\n",
       "      <td>NaN</td>\n",
       "    </tr>\n",
       "    <tr>\n",
       "      <th>4</th>\n",
       "      <td>ICBF REGIONAL SANTANDER</td>\n",
       "      <td>8999992391</td>\n",
       "      <td>Santander</td>\n",
       "      <td>Bucaramanga</td>\n",
       "      <td>Colombia,  Santander ,  Bucaramanga</td>\n",
       "      <td>Nacional</td>\n",
       "      <td>Salud y Protección Social</td>\n",
       "      <td>Ejecutivo</td>\n",
       "      <td>Centralizada</td>\n",
       "      <td>CO1.BDOS.5359745</td>\n",
       "      <td>...</td>\n",
       "      <td>0</td>\n",
       "      <td>0</td>\n",
       "      <td>2024-03-27T00:00:00.000</td>\n",
       "      <td>704192574</td>\n",
       "      <td>709312482</td>\n",
       "      <td>Prestar los servicios para la atención a la pr...</td>\n",
       "      <td>NaN</td>\n",
       "      <td>NaN</td>\n",
       "      <td>NaN</td>\n",
       "      <td>NaN</td>\n",
       "    </tr>\n",
       "  </tbody>\n",
       "</table>\n",
       "<p>5 rows × 72 columns</p>\n",
       "</div>"
      ],
      "text/plain": [
       "                     NOMBRE ENTIDAD NIT ENTIDAD                DEPARTAMENTO  \\\n",
       "0           ICBF REGIONAL SANTANDER  8999992391                   Santander   \n",
       "1           ICBF REGIONAL SANTANDER  8999992391                   Santander   \n",
       "2           ICBF REGIONAL SANTANDER  8999992391                   Santander   \n",
       "3  MINISTERIO DE IGUALDAD Y EQUIDAD   901733502  Distrito Capital de Bogotá   \n",
       "4           ICBF REGIONAL SANTANDER  8999992391                   Santander   \n",
       "\n",
       "        CIUDAD                         LOCALIZACIÓN     ORDEN  \\\n",
       "0  Bucaramanga  Colombia,  Santander ,  Bucaramanga  Nacional   \n",
       "1  Bucaramanga  Colombia,  Santander ,  Bucaramanga  Nacional   \n",
       "2  Bucaramanga  Colombia,  Santander ,  Bucaramanga  Nacional   \n",
       "3       Bogotá            Colombia, Bogotá,  Bogotá  Nacional   \n",
       "4  Bucaramanga  Colombia,  Santander ,  Bucaramanga  Nacional   \n",
       "\n",
       "                      SECTOR       RAMA ENTIDAD CENTRALIZADA  \\\n",
       "0  Salud y Protección Social  Ejecutivo         Centralizada   \n",
       "1  Salud y Protección Social  Ejecutivo         Centralizada   \n",
       "2  Salud y Protección Social  Ejecutivo         Centralizada   \n",
       "3           Servicio Público  Ejecutivo         Centralizada   \n",
       "4  Salud y Protección Social  Ejecutivo         Centralizada   \n",
       "\n",
       "  PROCESO DE COMPRA  ... RECURSOS DE CREDITO RECURSOS PROPIOS  \\\n",
       "0  CO1.BDOS.5359678  ...                   0                0   \n",
       "1  CO1.BDOS.5359678  ...                   0                0   \n",
       "2  CO1.BDOS.5359788  ...                   0                0   \n",
       "3  CO1.BDOS.5359523  ...                   0                0   \n",
       "4  CO1.BDOS.5359745  ...                   0                0   \n",
       "\n",
       "      ULTIMA ACTUALIZACION CODIGO ENTIDAD CODIGO PROVEEDOR  \\\n",
       "0  2024-04-22T00:00:00.000      704192574        702423252   \n",
       "1  2024-04-22T00:00:00.000      704192574        702423252   \n",
       "2  2024-03-27T00:00:00.000      704192574        709204515   \n",
       "3                      NaN      723231049        700569072   \n",
       "4  2024-03-27T00:00:00.000      704192574        709312482   \n",
       "\n",
       "                                 OBJETO DEL CONTRATO FECHA INICIO LIQUIDACION  \\\n",
       "0  Prestar los servicios de educación inicial en ...                      NaN   \n",
       "1  Prestar los servicios de educación inicial en ...                      NaN   \n",
       "2  Prestar los servicios para la atención a la pr...                      NaN   \n",
       "3  EL CEDENTE cede totalmente a partir del 1 de e...                      NaN   \n",
       "4  Prestar los servicios para la atención a la pr...                      NaN   \n",
       "\n",
       "  FECHA FIN LIQUIDACION FECHA DE INICIO DE EJECUCION FECHA DE FIN DE EJECUCION  \n",
       "0                   NaN                          NaN                       NaN  \n",
       "1                   NaN                          NaN                       NaN  \n",
       "2                   NaN                          NaN                       NaN  \n",
       "3                   NaN                          NaN                       NaN  \n",
       "4                   NaN                          NaN                       NaN  \n",
       "\n",
       "[5 rows x 72 columns]"
      ]
     },
     "execution_count": 38,
     "metadata": {},
     "output_type": "execute_result"
    }
   ],
   "source": [
    "df.head(5)"
   ]
  },
  {
   "cell_type": "markdown",
   "metadata": {},
   "source": [
    "Ahora, para mejorar la eficiencia del procesamiento de los datos, se van a seleccionar las columnas que realmente nos interesan para el presente análisis."
   ]
  },
  {
   "cell_type": "code",
   "execution_count": 39,
   "metadata": {},
   "outputs": [],
   "source": [
    "df_columnas=['NOMBRE ENTIDAD', 'NIT ENTIDAD', 'DEPARTAMENTO', 'CIUDAD',\n",
    "       'LOCALIZACIÓN', 'ORDEN', 'SECTOR', 'RAMA', 'ENTIDAD CENTRALIZADA',\n",
    "       'PROCESO DE COMPRA', 'ID CONTRATO', 'REFERENCIA DEL CONTRATO',\n",
    "       'ESTADO CONTRATO', 'CODIGO DE CATEGORIA PRINCIPAL',\n",
    "       'DESCRIPCION DEL PROCESO', 'TIPO DE CONTRATO',\n",
    "       'MODALIDAD DE CONTRATACION', 'JUSTIFICACION MODALIDAD DE CONTRATACION',\n",
    "       'FECHA DE FIRMA',\n",
    "       'TIPODOCPROVEEDOR', 'DOCUMENTO PROVEEDOR', 'PROVEEDOR ADJUDICADO',\n",
    "       'ES GRUPO', 'ES PYME', 'VALOR DEL CONTRATO','URLPROCESO']\n",
    "\n",
    "df = df[df_columnas]"
   ]
  },
  {
   "cell_type": "markdown",
   "metadata": {},
   "source": [
    "Se debe verificar y si la base de datos tiene contratos duplicados y eliminarlos si existen. Inicialmente se crea un identificador único, ya que es probable que una entidad estatal identifique un mismo número de contrato que otra."
   ]
  },
  {
   "cell_type": "code",
   "execution_count": 49,
   "metadata": {},
   "outputs": [
    {
     "name": "stderr",
     "output_type": "stream",
     "text": [
      "C:\\Windows\\Temp\\ipykernel_2260\\2509605523.py:1: SettingWithCopyWarning: \n",
      "A value is trying to be set on a copy of a slice from a DataFrame.\n",
      "Try using .loc[row_indexer,col_indexer] = value instead\n",
      "\n",
      "See the caveats in the documentation: https://pandas.pydata.org/pandas-docs/stable/user_guide/indexing.html#returning-a-view-versus-a-copy\n",
      "  df['NUMERO DE CONTRATO UNICO'] = df['NOMBRE ENTIDAD'] + df['REFERENCIA DEL CONTRATO']\n"
     ]
    }
   ],
   "source": [
    "df['NUMERO DE CONTRATO UNICO'] = df['NOMBRE ENTIDAD'] + df['REFERENCIA DEL CONTRATO']"
   ]
  },
  {
   "cell_type": "code",
   "execution_count": 50,
   "metadata": {},
   "outputs": [
    {
     "name": "stdout",
     "output_type": "stream",
     "text": [
      "Tamaño del set antes de eliminar los ID DEL CONTRATO Repetidos: (130938, 27) \n",
      "Tamaño del set después de eliminar los ID DEL CONTRATO Repetidos: (120699, 27)\n"
     ]
    },
    {
     "name": "stderr",
     "output_type": "stream",
     "text": [
      "C:\\Windows\\Temp\\ipykernel_2260\\1089515854.py:2: SettingWithCopyWarning: \n",
      "A value is trying to be set on a copy of a slice from a DataFrame\n",
      "\n",
      "See the caveats in the documentation: https://pandas.pydata.org/pandas-docs/stable/user_guide/indexing.html#returning-a-view-versus-a-copy\n",
      "  df.drop_duplicates(subset='NUMERO DE CONTRATO UNICO', inplace=True)\n"
     ]
    },
    {
     "data": {
      "text/html": [
       "<div>\n",
       "<style scoped>\n",
       "    .dataframe tbody tr th:only-of-type {\n",
       "        vertical-align: middle;\n",
       "    }\n",
       "\n",
       "    .dataframe tbody tr th {\n",
       "        vertical-align: top;\n",
       "    }\n",
       "\n",
       "    .dataframe thead th {\n",
       "        text-align: right;\n",
       "    }\n",
       "</style>\n",
       "<table border=\"1\" class=\"dataframe\">\n",
       "  <thead>\n",
       "    <tr style=\"text-align: right;\">\n",
       "      <th></th>\n",
       "      <th>NOMBRE ENTIDAD</th>\n",
       "      <th>NIT ENTIDAD</th>\n",
       "      <th>DEPARTAMENTO</th>\n",
       "      <th>CIUDAD</th>\n",
       "      <th>LOCALIZACIÓN</th>\n",
       "      <th>ORDEN</th>\n",
       "      <th>SECTOR</th>\n",
       "      <th>RAMA</th>\n",
       "      <th>ENTIDAD CENTRALIZADA</th>\n",
       "      <th>PROCESO DE COMPRA</th>\n",
       "      <th>...</th>\n",
       "      <th>JUSTIFICACION MODALIDAD DE CONTRATACION</th>\n",
       "      <th>FECHA DE FIRMA</th>\n",
       "      <th>TIPODOCPROVEEDOR</th>\n",
       "      <th>DOCUMENTO PROVEEDOR</th>\n",
       "      <th>PROVEEDOR ADJUDICADO</th>\n",
       "      <th>ES GRUPO</th>\n",
       "      <th>ES PYME</th>\n",
       "      <th>VALOR DEL CONTRATO</th>\n",
       "      <th>URLPROCESO</th>\n",
       "      <th>NUMERO DE CONTRATO UNICO</th>\n",
       "    </tr>\n",
       "  </thead>\n",
       "  <tbody>\n",
       "    <tr>\n",
       "      <th>0</th>\n",
       "      <td>ICBF REGIONAL SANTANDER</td>\n",
       "      <td>8999992391</td>\n",
       "      <td>Santander</td>\n",
       "      <td>Bucaramanga</td>\n",
       "      <td>Colombia,  Santander ,  Bucaramanga</td>\n",
       "      <td>Nacional</td>\n",
       "      <td>Salud y Protección Social</td>\n",
       "      <td>Ejecutivo</td>\n",
       "      <td>Centralizada</td>\n",
       "      <td>CO1.BDOS.5359678</td>\n",
       "      <td>...</td>\n",
       "      <td>Regla aplicable</td>\n",
       "      <td>2024-01-01</td>\n",
       "      <td>No Definido</td>\n",
       "      <td>804011576</td>\n",
       "      <td>FUNDACION COLOMBO ALEMANA VOLVER A SONREIR</td>\n",
       "      <td>No</td>\n",
       "      <td>No</td>\n",
       "      <td>32512632</td>\n",
       "      <td>{'url': 'https://community.secop.gov.co/Public...</td>\n",
       "      <td>ICBF REGIONAL SANTANDER68003762023</td>\n",
       "    </tr>\n",
       "    <tr>\n",
       "      <th>2</th>\n",
       "      <td>ICBF REGIONAL SANTANDER</td>\n",
       "      <td>8999992391</td>\n",
       "      <td>Santander</td>\n",
       "      <td>Bucaramanga</td>\n",
       "      <td>Colombia,  Santander ,  Bucaramanga</td>\n",
       "      <td>Nacional</td>\n",
       "      <td>Salud y Protección Social</td>\n",
       "      <td>Ejecutivo</td>\n",
       "      <td>Centralizada</td>\n",
       "      <td>CO1.BDOS.5359788</td>\n",
       "      <td>...</td>\n",
       "      <td>Regla aplicable</td>\n",
       "      <td>2024-01-01</td>\n",
       "      <td>No Definido</td>\n",
       "      <td>800079278</td>\n",
       "      <td>APHB MIRAFLORES II</td>\n",
       "      <td>No</td>\n",
       "      <td>Si</td>\n",
       "      <td>107914567</td>\n",
       "      <td>{'url': 'https://community.secop.gov.co/Public...</td>\n",
       "      <td>ICBF REGIONAL SANTANDER68004382023</td>\n",
       "    </tr>\n",
       "    <tr>\n",
       "      <th>3</th>\n",
       "      <td>MINISTERIO DE IGUALDAD Y EQUIDAD</td>\n",
       "      <td>901733502</td>\n",
       "      <td>Distrito Capital de Bogotá</td>\n",
       "      <td>Bogotá</td>\n",
       "      <td>Colombia, Bogotá,  Bogotá</td>\n",
       "      <td>Nacional</td>\n",
       "      <td>Servicio Público</td>\n",
       "      <td>Ejecutivo</td>\n",
       "      <td>Centralizada</td>\n",
       "      <td>CO1.BDOS.5359523</td>\n",
       "      <td>...</td>\n",
       "      <td>Contratos o convenios Interadministrativos (va...</td>\n",
       "      <td>2024-01-01</td>\n",
       "      <td>No Definido</td>\n",
       "      <td>800141397</td>\n",
       "      <td>DILOF</td>\n",
       "      <td>No</td>\n",
       "      <td>No</td>\n",
       "      <td>0</td>\n",
       "      <td>{'url': 'https://community.secop.gov.co/Public...</td>\n",
       "      <td>MINISTERIO DE IGUALDAD Y EQUIDADconvenio ínter...</td>\n",
       "    </tr>\n",
       "    <tr>\n",
       "      <th>4</th>\n",
       "      <td>ICBF REGIONAL SANTANDER</td>\n",
       "      <td>8999992391</td>\n",
       "      <td>Santander</td>\n",
       "      <td>Bucaramanga</td>\n",
       "      <td>Colombia,  Santander ,  Bucaramanga</td>\n",
       "      <td>Nacional</td>\n",
       "      <td>Salud y Protección Social</td>\n",
       "      <td>Ejecutivo</td>\n",
       "      <td>Centralizada</td>\n",
       "      <td>CO1.BDOS.5359745</td>\n",
       "      <td>...</td>\n",
       "      <td>Regla aplicable</td>\n",
       "      <td>2024-01-01</td>\n",
       "      <td>No Definido</td>\n",
       "      <td>804001455</td>\n",
       "      <td>APHB MANUELA BELTRAN</td>\n",
       "      <td>No</td>\n",
       "      <td>No</td>\n",
       "      <td>113281864</td>\n",
       "      <td>{'url': 'https://community.secop.gov.co/Public...</td>\n",
       "      <td>ICBF REGIONAL SANTANDER68004372023</td>\n",
       "    </tr>\n",
       "    <tr>\n",
       "      <th>7</th>\n",
       "      <td>HOSPITAL DEPARTAMENTAL PSIQUIATRICO UNIVERSITA...</td>\n",
       "      <td>890304155</td>\n",
       "      <td>Valle del Cauca</td>\n",
       "      <td>Cali</td>\n",
       "      <td>Colombia,  Valle del Cauca ,  Cali</td>\n",
       "      <td>Territorial</td>\n",
       "      <td>Salud y Protección Social</td>\n",
       "      <td>Ejecutivo</td>\n",
       "      <td>Centralizada</td>\n",
       "      <td>CO1.BDOS.5351945</td>\n",
       "      <td>...</td>\n",
       "      <td>Regla aplicable</td>\n",
       "      <td>2024-01-02</td>\n",
       "      <td>No Definido</td>\n",
       "      <td>800087565</td>\n",
       "      <td>Synlab Colombia S.A.S</td>\n",
       "      <td>No</td>\n",
       "      <td>No</td>\n",
       "      <td>82840000</td>\n",
       "      <td>{'url': 'https://community.secop.gov.co/Public...</td>\n",
       "      <td>HOSPITAL DEPARTAMENTAL PSIQUIATRICO UNIVERSITA...</td>\n",
       "    </tr>\n",
       "  </tbody>\n",
       "</table>\n",
       "<p>5 rows × 27 columns</p>\n",
       "</div>"
      ],
      "text/plain": [
       "                                      NOMBRE ENTIDAD NIT ENTIDAD  \\\n",
       "0                            ICBF REGIONAL SANTANDER  8999992391   \n",
       "2                            ICBF REGIONAL SANTANDER  8999992391   \n",
       "3                   MINISTERIO DE IGUALDAD Y EQUIDAD   901733502   \n",
       "4                            ICBF REGIONAL SANTANDER  8999992391   \n",
       "7  HOSPITAL DEPARTAMENTAL PSIQUIATRICO UNIVERSITA...   890304155   \n",
       "\n",
       "                 DEPARTAMENTO       CIUDAD  \\\n",
       "0                   Santander  Bucaramanga   \n",
       "2                   Santander  Bucaramanga   \n",
       "3  Distrito Capital de Bogotá       Bogotá   \n",
       "4                   Santander  Bucaramanga   \n",
       "7             Valle del Cauca         Cali   \n",
       "\n",
       "                          LOCALIZACIÓN        ORDEN  \\\n",
       "0  Colombia,  Santander ,  Bucaramanga     Nacional   \n",
       "2  Colombia,  Santander ,  Bucaramanga     Nacional   \n",
       "3            Colombia, Bogotá,  Bogotá     Nacional   \n",
       "4  Colombia,  Santander ,  Bucaramanga     Nacional   \n",
       "7   Colombia,  Valle del Cauca ,  Cali  Territorial   \n",
       "\n",
       "                      SECTOR       RAMA ENTIDAD CENTRALIZADA  \\\n",
       "0  Salud y Protección Social  Ejecutivo         Centralizada   \n",
       "2  Salud y Protección Social  Ejecutivo         Centralizada   \n",
       "3           Servicio Público  Ejecutivo         Centralizada   \n",
       "4  Salud y Protección Social  Ejecutivo         Centralizada   \n",
       "7  Salud y Protección Social  Ejecutivo         Centralizada   \n",
       "\n",
       "  PROCESO DE COMPRA  ...            JUSTIFICACION MODALIDAD DE CONTRATACION  \\\n",
       "0  CO1.BDOS.5359678  ...                                    Regla aplicable   \n",
       "2  CO1.BDOS.5359788  ...                                    Regla aplicable   \n",
       "3  CO1.BDOS.5359523  ...  Contratos o convenios Interadministrativos (va...   \n",
       "4  CO1.BDOS.5359745  ...                                    Regla aplicable   \n",
       "7  CO1.BDOS.5351945  ...                                    Regla aplicable   \n",
       "\n",
       "  FECHA DE FIRMA TIPODOCPROVEEDOR DOCUMENTO PROVEEDOR  \\\n",
       "0     2024-01-01      No Definido           804011576   \n",
       "2     2024-01-01      No Definido           800079278   \n",
       "3     2024-01-01      No Definido           800141397   \n",
       "4     2024-01-01      No Definido           804001455   \n",
       "7     2024-01-02      No Definido           800087565   \n",
       "\n",
       "                         PROVEEDOR ADJUDICADO ES GRUPO ES PYME  \\\n",
       "0  FUNDACION COLOMBO ALEMANA VOLVER A SONREIR       No      No   \n",
       "2                          APHB MIRAFLORES II       No      Si   \n",
       "3                                       DILOF       No      No   \n",
       "4                        APHB MANUELA BELTRAN       No      No   \n",
       "7                       Synlab Colombia S.A.S       No      No   \n",
       "\n",
       "  VALOR DEL CONTRATO                                         URLPROCESO  \\\n",
       "0           32512632  {'url': 'https://community.secop.gov.co/Public...   \n",
       "2          107914567  {'url': 'https://community.secop.gov.co/Public...   \n",
       "3                  0  {'url': 'https://community.secop.gov.co/Public...   \n",
       "4          113281864  {'url': 'https://community.secop.gov.co/Public...   \n",
       "7           82840000  {'url': 'https://community.secop.gov.co/Public...   \n",
       "\n",
       "                            NUMERO DE CONTRATO UNICO  \n",
       "0                 ICBF REGIONAL SANTANDER68003762023  \n",
       "2                 ICBF REGIONAL SANTANDER68004382023  \n",
       "3  MINISTERIO DE IGUALDAD Y EQUIDADconvenio ínter...  \n",
       "4                 ICBF REGIONAL SANTANDER68004372023  \n",
       "7  HOSPITAL DEPARTAMENTAL PSIQUIATRICO UNIVERSITA...  \n",
       "\n",
       "[5 rows x 27 columns]"
      ]
     },
     "execution_count": 50,
     "metadata": {},
     "output_type": "execute_result"
    }
   ],
   "source": [
    "print(f\"Tamaño del set antes de eliminar los ID DEL CONTRATO Repetidos: {df.shape} \")\n",
    "df.drop_duplicates(subset='NUMERO DE CONTRATO UNICO', inplace=True)\n",
    "print(f\"Tamaño del set después de eliminar los ID DEL CONTRATO Repetidos: {df.shape}\")\n",
    "\n",
    "df.head()"
   ]
  },
  {
   "cell_type": "markdown",
   "metadata": {},
   "source": [
    "Verificaremos los contratos que sirven para el análisis."
   ]
  },
  {
   "cell_type": "code",
   "execution_count": 52,
   "metadata": {},
   "outputs": [
    {
     "data": {
      "text/plain": [
       "array(['Modificado', 'En ejecución', 'Activo', 'terminado', 'cedido',\n",
       "       'Cerrado', 'Suspendido'], dtype=object)"
      ]
     },
     "execution_count": 52,
     "metadata": {},
     "output_type": "execute_result"
    }
   ],
   "source": [
    "df['ESTADO CONTRATO'].unique()\n",
    "\n",
    "#Hacer este paso de arriba siempre, no se sabe si hay algun dato que sirva\n",
    "#['En ejecución', 'Modificado', 'cedido', 'terminado','Cerrado','Activo','Prorrogado','Suspendido']"
   ]
  },
  {
   "cell_type": "markdown",
   "metadata": {},
   "source": [
    "Dejaremos unicamente los estados de contrato que se consideran como activos dentro del SECOP."
   ]
  },
  {
   "cell_type": "code",
   "execution_count": 54,
   "metadata": {},
   "outputs": [
    {
     "name": "stdout",
     "output_type": "stream",
     "text": [
      "Tamaño del set antes de eliminar los estados: (120699, 27) \n",
      "Tamaño del set después de eliminar los estados: (120699, 27)\n"
     ]
    }
   ],
   "source": [
    "#Eliminar los estados de los contratos que no se consideran\n",
    "\n",
    "print(f\"Tamaño del set antes de eliminar los estados: {df.shape} \")\n",
    "df_final = df[df['ESTADO CONTRATO'].isin(['En ejecución', 'Modificado', 'cedido', 'terminado','Cerrado','Activo','Prorrogado','Suspendido'])]\n",
    "print(f\"Tamaño del set después de eliminar los estados: {df_final.shape}\")\n"
   ]
  },
  {
   "cell_type": "markdown",
   "metadata": {},
   "source": [
    "Vamos a conocer el tipo de datos que contiene cada columna de la base de datos. "
   ]
  },
  {
   "cell_type": "code",
   "execution_count": 40,
   "metadata": {},
   "outputs": [
    {
     "data": {
      "text/plain": [
       "NOMBRE ENTIDAD                             object\n",
       "NIT ENTIDAD                                object\n",
       "DEPARTAMENTO                               object\n",
       "CIUDAD                                     object\n",
       "LOCALIZACIÓN                               object\n",
       "ORDEN                                      object\n",
       "SECTOR                                     object\n",
       "RAMA                                       object\n",
       "ENTIDAD CENTRALIZADA                       object\n",
       "PROCESO DE COMPRA                          object\n",
       "ID CONTRATO                                object\n",
       "REFERENCIA DEL CONTRATO                    object\n",
       "ESTADO CONTRATO                            object\n",
       "CODIGO DE CATEGORIA PRINCIPAL              object\n",
       "DESCRIPCION DEL PROCESO                    object\n",
       "TIPO DE CONTRATO                           object\n",
       "MODALIDAD DE CONTRATACION                  object\n",
       "JUSTIFICACION MODALIDAD DE CONTRATACION    object\n",
       "FECHA DE FIRMA                             object\n",
       "TIPODOCPROVEEDOR                           object\n",
       "DOCUMENTO PROVEEDOR                        object\n",
       "PROVEEDOR ADJUDICADO                       object\n",
       "ES GRUPO                                   object\n",
       "ES PYME                                    object\n",
       "VALOR DEL CONTRATO                         object\n",
       "URLPROCESO                                 object\n",
       "dtype: object"
      ]
     },
     "execution_count": 40,
     "metadata": {},
     "output_type": "execute_result"
    }
   ],
   "source": [
    "tipos_de_datos = df.dtypes\n",
    "\n",
    "tipos_de_datos"
   ]
  },
  {
   "cell_type": "markdown",
   "metadata": {},
   "source": [
    "Cuando se almacenan datos de tipo string, el tipo de datos correspondiente se llama \"object\". Esto es simplemente una convención de pandas. Ahora, debemos cambiar los formatos necesarios para fechas y valores de los contratos. Se va cambiar ahora la fecha de firma de los contratos, de modo que sean todas con formato de fecha-hora y el valor de contrato será de tipo float"
   ]
  },
  {
   "cell_type": "code",
   "execution_count": 41,
   "metadata": {},
   "outputs": [
    {
     "name": "stdout",
     "output_type": "stream",
     "text": [
      "Formato de fecha de creación inicial: object\n",
      "Formato de fecha de creación después del cambio de formato: datetime64[ns]\n"
     ]
    },
    {
     "name": "stderr",
     "output_type": "stream",
     "text": [
      "C:\\Windows\\Temp\\ipykernel_2260\\817866160.py:2: SettingWithCopyWarning: \n",
      "A value is trying to be set on a copy of a slice from a DataFrame.\n",
      "Try using .loc[row_indexer,col_indexer] = value instead\n",
      "\n",
      "See the caveats in the documentation: https://pandas.pydata.org/pandas-docs/stable/user_guide/indexing.html#returning-a-view-versus-a-copy\n",
      "  df['FECHA DE FIRMA']=pd.to_datetime(df['FECHA DE FIRMA'])\n"
     ]
    }
   ],
   "source": [
    "print(f'Formato de fecha de creación inicial: {df['FECHA DE FIRMA'].dtype}')\n",
    "df['FECHA DE FIRMA']=pd.to_datetime(df['FECHA DE FIRMA'])\n",
    "print(f'Formato de fecha de creación después del cambio de formato: {df['FECHA DE FIRMA'].dtype}')"
   ]
  },
  {
   "cell_type": "code",
   "execution_count": 42,
   "metadata": {},
   "outputs": [
    {
     "data": {
      "text/plain": [
       "NOMBRE ENTIDAD                                     object\n",
       "NIT ENTIDAD                                        object\n",
       "DEPARTAMENTO                                       object\n",
       "CIUDAD                                             object\n",
       "LOCALIZACIÓN                                       object\n",
       "ORDEN                                              object\n",
       "SECTOR                                             object\n",
       "RAMA                                               object\n",
       "ENTIDAD CENTRALIZADA                               object\n",
       "PROCESO DE COMPRA                                  object\n",
       "ID CONTRATO                                        object\n",
       "REFERENCIA DEL CONTRATO                            object\n",
       "ESTADO CONTRATO                                    object\n",
       "CODIGO DE CATEGORIA PRINCIPAL                      object\n",
       "DESCRIPCION DEL PROCESO                            object\n",
       "TIPO DE CONTRATO                                   object\n",
       "MODALIDAD DE CONTRATACION                          object\n",
       "JUSTIFICACION MODALIDAD DE CONTRATACION            object\n",
       "FECHA DE FIRMA                             datetime64[ns]\n",
       "TIPODOCPROVEEDOR                                   object\n",
       "DOCUMENTO PROVEEDOR                                object\n",
       "PROVEEDOR ADJUDICADO                               object\n",
       "ES GRUPO                                           object\n",
       "ES PYME                                            object\n",
       "VALOR DEL CONTRATO                                 object\n",
       "URLPROCESO                                         object\n",
       "dtype: object"
      ]
     },
     "execution_count": 42,
     "metadata": {},
     "output_type": "execute_result"
    }
   ],
   "source": [
    "tipos_de_datos = df.dtypes\n",
    "\n",
    "tipos_de_datos"
   ]
  },
  {
   "cell_type": "markdown",
   "metadata": {},
   "source": [
    "Ahora el valor del contrato a tipo entero"
   ]
  },
  {
   "cell_type": "code",
   "execution_count": 43,
   "metadata": {},
   "outputs": [
    {
     "name": "stderr",
     "output_type": "stream",
     "text": [
      "C:\\Windows\\Temp\\ipykernel_2260\\2962206377.py:1: SettingWithCopyWarning: \n",
      "A value is trying to be set on a copy of a slice from a DataFrame.\n",
      "Try using .loc[row_indexer,col_indexer] = value instead\n",
      "\n",
      "See the caveats in the documentation: https://pandas.pydata.org/pandas-docs/stable/user_guide/indexing.html#returning-a-view-versus-a-copy\n",
      "  df['VALOR DEL CONTRATO']=pd.to_numeric(df['VALOR DEL CONTRATO'])\n"
     ]
    }
   ],
   "source": [
    "df['VALOR DEL CONTRATO']=pd.to_numeric(df['VALOR DEL CONTRATO'])"
   ]
  },
  {
   "cell_type": "markdown",
   "metadata": {},
   "source": [
  
   ]
  },
  {
   "cell_type": "code",
   "execution_count": 44,
   "metadata": {},
   "outputs": [
    {
     "data": {
      "text/plain": [
       "NOMBRE ENTIDAD                                     object\n",
       "NIT ENTIDAD                                        object\n",
       "DEPARTAMENTO                                       object\n",
       "CIUDAD                                             object\n",
       "LOCALIZACIÓN                                       object\n",
       "ORDEN                                              object\n",
       "SECTOR                                             object\n",
       "RAMA                                               object\n",
       "ENTIDAD CENTRALIZADA                               object\n",
       "PROCESO DE COMPRA                                  object\n",
       "ID CONTRATO                                        object\n",
       "REFERENCIA DEL CONTRATO                            object\n",
       "ESTADO CONTRATO                                    object\n",
       "CODIGO DE CATEGORIA PRINCIPAL                      object\n",
       "DESCRIPCION DEL PROCESO                            object\n",
       "TIPO DE CONTRATO                                   object\n",
       "MODALIDAD DE CONTRATACION                          object\n",
       "JUSTIFICACION MODALIDAD DE CONTRATACION            object\n",
       "FECHA DE FIRMA                             datetime64[ns]\n",
       "TIPODOCPROVEEDOR                                   object\n",
       "DOCUMENTO PROVEEDOR                                object\n",
       "PROVEEDOR ADJUDICADO                               object\n",
       "ES GRUPO                                           object\n",
       "ES PYME                                            object\n",
       "VALOR DEL CONTRATO                                  int64\n",
       "URLPROCESO                                         object\n",
       "dtype: object"
      ]
     },
     "execution_count": 44,
     "metadata": {},
     "output_type": "execute_result"
    }
   ],
   "source": [
    "tipos_de_datos = df.dtypes\n",
    "\n",
    "tipos_de_datos"
   ]
  },
  {
   "cell_type": "markdown",
   "metadata": {},
   "source": [
    "Ahora, se quiere conocer inicialmente, si la base de datos realmente nos está mostrando información de proveedores registrados en Armenia, Quindío, por lo cual se hace una agrupación, indicando el depatamento y municipio de acuerdo con el NIT de la empresa."
   ]
  },
  {
   "cell_type": "code",
   "execution_count": 46,
   "metadata": {},
   "outputs": [
    {
     "data": {
      "text/html": [
       "<div>\n",
       "<style scoped>\n",
       "    .dataframe tbody tr th:only-of-type {\n",
       "        vertical-align: middle;\n",
       "    }\n",
       "\n",
       "    .dataframe tbody tr th {\n",
       "        vertical-align: top;\n",
       "    }\n",
       "\n",
       "    .dataframe thead th {\n",
       "        text-align: right;\n",
       "    }\n",
       "</style>\n",
       "<table border=\"1\" class=\"dataframe\">\n",
       "  <thead>\n",
       "    <tr style=\"text-align: right;\">\n",
       "      <th></th>\n",
       "      <th></th>\n",
       "      <th>REFERENCIA DEL CONTRATO</th>\n",
       "      <th>Porcentaje_de_Participacion</th>\n",
       "    </tr>\n",
       "    <tr>\n",
       "      <th>DEPARTAMENTO</th>\n",
       "      <th>CIUDAD</th>\n",
       "      <th></th>\n",
       "      <th></th>\n",
       "    </tr>\n",
       "  </thead>\n",
       "  <tbody>\n",
       "    <tr>\n",
       "      <th>Distrito Capital de Bogotá</th>\n",
       "      <th>Bogotá</th>\n",
       "      <td>89212</td>\n",
       "      <td>68.068548</td>\n",
       "    </tr>\n",
       "    <tr>\n",
       "      <th>Valle del Cauca</th>\n",
       "      <th>Cali</th>\n",
       "      <td>25597</td>\n",
       "      <td>19.530451</td>\n",
       "    </tr>\n",
       "    <tr>\n",
       "      <th>Atlántico</th>\n",
       "      <th>Barranquilla</th>\n",
       "      <td>8739</td>\n",
       "      <td>6.667837</td>\n",
       "    </tr>\n",
       "    <tr>\n",
       "      <th>Santander</th>\n",
       "      <th>Bucaramanga</th>\n",
       "      <td>7390</td>\n",
       "      <td>5.638553</td>\n",
       "    </tr>\n",
       "    <tr>\n",
       "      <th>Valle del Cauca</th>\n",
       "      <th>Calima</th>\n",
       "      <td>123</td>\n",
       "      <td>0.093849</td>\n",
       "    </tr>\n",
       "    <tr>\n",
       "      <th>Norte de Santander</th>\n",
       "      <th>San Calixto</th>\n",
       "      <td>1</td>\n",
       "      <td>0.000763</td>\n",
       "    </tr>\n",
       "  </tbody>\n",
       "</table>\n",
       "</div>"
      ],
      "text/plain": [
       "                                         REFERENCIA DEL CONTRATO  \\\n",
       "DEPARTAMENTO               CIUDAD                                  \n",
       "Distrito Capital de Bogotá Bogotá                          89212   \n",
       "Valle del Cauca            Cali                            25597   \n",
       "Atlántico                  Barranquilla                     8739   \n",
       "Santander                  Bucaramanga                      7390   \n",
       "Valle del Cauca            Calima                            123   \n",
       "Norte de Santander         San Calixto                         1   \n",
       "\n",
       "                                         Porcentaje_de_Participacion  \n",
       "DEPARTAMENTO               CIUDAD                                     \n",
       "Distrito Capital de Bogotá Bogotá                          68.068548  \n",
       "Valle del Cauca            Cali                            19.530451  \n",
       "Atlántico                  Barranquilla                     6.667837  \n",
       "Santander                  Bucaramanga                      5.638553  \n",
       "Valle del Cauca            Calima                           0.093849  \n",
       "Norte de Santander         San Calixto                      0.000763  "
      ]
     },
     "execution_count": 46,
     "metadata": {},
     "output_type": "execute_result"
    }
   ],
   "source": [
    "ubicacion_agrupados = pd.DataFrame(df.groupby(['DEPARTAMENTO', 'CIUDAD'])['REFERENCIA DEL CONTRATO'].count()).sort_values('REFERENCIA DEL CONTRATO',ascending=False).assign(Porcentaje_de_Participacion=lambda x: (x['REFERENCIA DEL CONTRATO'] / x['REFERENCIA DEL CONTRATO'].sum()) * 100)\n",
    "\n",
    "ubicacion_agrupados"
   ]
  },
  {
   "cell_type": "markdown",
   "metadata": {},
   "source": [
    "Se puede evidenciar un error en esta base de datos, hay municipios que no corresponden con las capitales que se quieren analizar, se deben retirar de la base de datos."
   ]
  },
  {
   "cell_type": "code",
   "execution_count": 48,
   "metadata": {},
   "outputs": [
    {
     "name": "stdout",
     "output_type": "stream",
     "text": [
      "Tamaño del set antes de eliminar los contratos de la Calima y San Calixto: (131062, 26) \n",
      "Tamaño del set después de eliminar los contratos de Calima y San Calixto: (130938, 26)\n"
     ]
    }
   ],
   "source": [
    "print(f'Tamaño del set antes de eliminar los contratos de la Calima y San Calixto: {df.shape} ')\n",
    "df = df[(df['CIUDAD'] != 'Calima') & (df['CIUDAD'] != 'San Calixto')]\n",
    "print(f'Tamaño del set después de eliminar los contratos de Calima y San Calixto: {df.shape}')"
   ]
  },
  {
   "cell_type": "markdown",
   "metadata": {},
   "source": [
    "Ahora verificaremos nuevamente la participación de la cantidad de contratos en las ciudades y departamentos."
   ]
  },
  {
   "cell_type": "code",
   "execution_count": 55,
   "metadata": {},
   "outputs": [
    {
     "data": {
      "text/html": [
       "<div>\n",
       "<style scoped>\n",
       "    .dataframe tbody tr th:only-of-type {\n",
       "        vertical-align: middle;\n",
       "    }\n",
       "\n",
       "    .dataframe tbody tr th {\n",
       "        vertical-align: top;\n",
       "    }\n",
       "\n",
       "    .dataframe thead th {\n",
       "        text-align: right;\n",
       "    }\n",
       "</style>\n",
       "<table border=\"1\" class=\"dataframe\">\n",
       "  <thead>\n",
       "    <tr style=\"text-align: right;\">\n",
       "      <th></th>\n",
       "      <th></th>\n",
       "      <th>REFERENCIA DEL CONTRATO</th>\n",
       "      <th>Porcentaje_de_Participacion</th>\n",
       "    </tr>\n",
       "    <tr>\n",
       "      <th>DEPARTAMENTO</th>\n",
       "      <th>CIUDAD</th>\n",
       "      <th></th>\n",
       "      <th></th>\n",
       "    </tr>\n",
       "  </thead>\n",
       "  <tbody>\n",
       "    <tr>\n",
       "      <th>Distrito Capital de Bogotá</th>\n",
       "      <th>Bogotá</th>\n",
       "      <td>82614</td>\n",
       "      <td>68.446300</td>\n",
       "    </tr>\n",
       "    <tr>\n",
       "      <th>Valle del Cauca</th>\n",
       "      <th>Cali</th>\n",
       "      <td>22805</td>\n",
       "      <td>18.894108</td>\n",
       "    </tr>\n",
       "    <tr>\n",
       "      <th>Atlántico</th>\n",
       "      <th>Barranquilla</th>\n",
       "      <td>8462</td>\n",
       "      <td>7.010829</td>\n",
       "    </tr>\n",
       "    <tr>\n",
       "      <th>Santander</th>\n",
       "      <th>Bucaramanga</th>\n",
       "      <td>6818</td>\n",
       "      <td>5.648763</td>\n",
       "    </tr>\n",
       "  </tbody>\n",
       "</table>\n",
       "</div>"
      ],
      "text/plain": [
       "                                         REFERENCIA DEL CONTRATO  \\\n",
       "DEPARTAMENTO               CIUDAD                                  \n",
       "Distrito Capital de Bogotá Bogotá                          82614   \n",
       "Valle del Cauca            Cali                            22805   \n",
       "Atlántico                  Barranquilla                     8462   \n",
       "Santander                  Bucaramanga                      6818   \n",
       "\n",
       "                                         Porcentaje_de_Participacion  \n",
       "DEPARTAMENTO               CIUDAD                                     \n",
       "Distrito Capital de Bogotá Bogotá                          68.446300  \n",
       "Valle del Cauca            Cali                            18.894108  \n",
       "Atlántico                  Barranquilla                     7.010829  \n",
       "Santander                  Bucaramanga                      5.648763  "
      ]
     },
     "execution_count": 55,
     "metadata": {},
     "output_type": "execute_result"
    }
   ],
   "source": [
    "ubicacion_agrupados = pd.DataFrame(df.groupby(['DEPARTAMENTO', 'CIUDAD'])['REFERENCIA DEL CONTRATO'].count()).sort_values('REFERENCIA DEL CONTRATO',ascending=False).assign(Porcentaje_de_Participacion=lambda x: (x['REFERENCIA DEL CONTRATO'] / x['REFERENCIA DEL CONTRATO'].sum()) * 100)\n",
    "\n",
    "ubicacion_agrupados"
   ]
  },
  {
   "cell_type": "markdown",
   "metadata": {},
   "source": [
    "Realizaremos el gráfico que incorporaremos en power bi más adelante, este gráfico mostrará el valor total contratado por ciudad."
   ]
  },
  {
   "cell_type": "code",
   "execution_count": 56,
   "metadata": {},
   "outputs": [
    {
     "data": {
      "text/html": [
       "<div>\n",
       "<style scoped>\n",
       "    .dataframe tbody tr th:only-of-type {\n",
       "        vertical-align: middle;\n",
       "    }\n",
       "\n",
       "    .dataframe tbody tr th {\n",
       "        vertical-align: top;\n",
       "    }\n",
       "\n",
       "    .dataframe thead th {\n",
       "        text-align: right;\n",
       "    }\n",
       "</style>\n",
       "<table border=\"1\" class=\"dataframe\">\n",
       "  <thead>\n",
       "    <tr style=\"text-align: right;\">\n",
       "      <th></th>\n",
       "      <th></th>\n",
       "      <th>VALOR DEL CONTRATO</th>\n",
       "      <th>Porcentaje_de_Participacion</th>\n",
       "    </tr>\n",
       "    <tr>\n",
       "      <th>DEPARTAMENTO</th>\n",
       "      <th>CIUDAD</th>\n",
       "      <th></th>\n",
       "      <th></th>\n",
       "    </tr>\n",
       "  </thead>\n",
       "  <tbody>\n",
       "    <tr>\n",
       "      <th>Distrito Capital de Bogotá</th>\n",
       "      <th>Bogotá</th>\n",
       "      <td>82614</td>\n",
       "      <td>68.446300</td>\n",
       "    </tr>\n",
       "    <tr>\n",
       "      <th>Valle del Cauca</th>\n",
       "      <th>Cali</th>\n",
       "      <td>22805</td>\n",
       "      <td>18.894108</td>\n",
       "    </tr>\n",
       "    <tr>\n",
       "      <th>Atlántico</th>\n",
       "      <th>Barranquilla</th>\n",
       "      <td>8462</td>\n",
       "      <td>7.010829</td>\n",
       "    </tr>\n",
       "    <tr>\n",
       "      <th>Santander</th>\n",
       "      <th>Bucaramanga</th>\n",
       "      <td>6818</td>\n",
       "      <td>5.648763</td>\n",
       "    </tr>\n",
       "  </tbody>\n",
       "</table>\n",
       "</div>"
      ],
      "text/plain": [
       "                                         VALOR DEL CONTRATO  \\\n",
       "DEPARTAMENTO               CIUDAD                             \n",
       "Distrito Capital de Bogotá Bogotá                     82614   \n",
       "Valle del Cauca            Cali                       22805   \n",
       "Atlántico                  Barranquilla                8462   \n",
       "Santander                  Bucaramanga                 6818   \n",
       "\n",
       "                                         Porcentaje_de_Participacion  \n",
       "DEPARTAMENTO               CIUDAD                                     \n",
       "Distrito Capital de Bogotá Bogotá                          68.446300  \n",
       "Valle del Cauca            Cali                            18.894108  \n",
       "Atlántico                  Barranquilla                     7.010829  \n",
       "Santander                  Bucaramanga                      5.648763  "
      ]
     },
     "execution_count": 56,
     "metadata": {},
     "output_type": "execute_result"
    }
   ],
   "source": [
    "ubicacion_agrupados = pd.DataFrame(df.groupby(['DEPARTAMENTO', 'CIUDAD'])['VALOR DEL CONTRATO'].count()).sort_values('VALOR DEL CONTRATO',ascending=False).assign(Porcentaje_de_Participacion=lambda x: (x['VALOR DEL CONTRATO'] / x['VALOR DEL CONTRATO'].sum()) * 100)\n",
    "\n",
    "ubicacion_agrupados"
   ]
  },
  {
   "cell_type": "markdown",
   "metadata": {},
   "source": [
    "iNCORPORAR GRÁFICO EN PYTHON"
   ]
  },
  {
   "cell_type": "code",
   "execution_count": null,
   "metadata": {},
   "outputs": [],
   "source": []
  },
  {
   "cell_type": "code",
   "execution_count": null,
   "metadata": {},
   "outputs": [],
   "source": []
  },
  {
   "cell_type": "code",
   "execution_count": null,
   "metadata": {},
   "outputs": [],
   "source": []
  },
  {
   "cell_type": "markdown",
   "metadata": {},
   "source": [
    "Se agrupan los tipos de empresa que se consideren para agrupar, por ejemplo las fundaciones."
   ]
  },
  {
   "cell_type": "code",
   "execution_count": null,
   "metadata": {},
   "outputs": [
    {
     "name": "stderr",
     "output_type": "stream",
     "text": [
      "C:\\Windows\\Temp\\ipykernel_21792\\1581507725.py:3: FutureWarning: A value is trying to be set on a copy of a DataFrame or Series through chained assignment using an inplace method.\n",
      "The behavior will change in pandas 3.0. This inplace method will never work because the intermediate object on which we are setting values always behaves as a copy.\n",
      "\n",
      "For example, when doing 'df[col].method(value, inplace=True)', try using 'df.method({col: value}, inplace=True)' or df[col] = df[col].method(value) instead, to perform the operation inplace on the original object.\n",
      "\n",
      "\n",
      "  directorio['Tipo Empresa'].replace(reemplazos_tipo_empresa, inplace=True)\n"
     ]
    }
   ],
   "source": [
    "reemplazos_tipo_empresa = {'Fundação': 'Fundaciones'                        \n",
    "}\n",
    "df['Tipo Empresa'].replace(reemplazos_tipo_empresa, inplace=True)"
   ]
  },
  {
   "cell_type": "markdown",
   "metadata": {},
   "source": [
    "Verificamos la distribución."
   ]
  },
  {
   "cell_type": "code",
   "execution_count": null,
   "metadata": {},
   "outputs": [
    {
     "data": {
      "text/html": [
       "<div>\n",
       "<style scoped>\n",
       "    .dataframe tbody tr th:only-of-type {\n",
       "        vertical-align: middle;\n",
       "    }\n",
       "\n",
       "    .dataframe tbody tr th {\n",
       "        vertical-align: top;\n",
       "    }\n",
       "\n",
       "    .dataframe thead th {\n",
       "        text-align: right;\n",
       "    }\n",
       "</style>\n",
       "<table border=\"1\" class=\"dataframe\">\n",
       "  <thead>\n",
       "    <tr style=\"text-align: right;\">\n",
       "      <th></th>\n",
       "      <th>NIT</th>\n",
       "      <th>Porcentaje_de_Participacion</th>\n",
       "    </tr>\n",
       "    <tr>\n",
       "      <th>Tipo Empresa</th>\n",
       "      <th></th>\n",
       "      <th></th>\n",
       "    </tr>\n",
       "  </thead>\n",
       "  <tbody>\n",
       "    <tr>\n",
       "      <th>Consorcio</th>\n",
       "      <td>1188</td>\n",
       "      <td>47.425150</td>\n",
       "    </tr>\n",
       "    <tr>\n",
       "      <th>Persona Natural colombiana</th>\n",
       "      <td>372</td>\n",
       "      <td>14.850299</td>\n",
       "    </tr>\n",
       "    <tr>\n",
       "      <th>Sociedad por acciones simplificada</th>\n",
       "      <td>360</td>\n",
       "      <td>14.371257</td>\n",
       "    </tr>\n",
       "    <tr>\n",
       "      <th>Unión Temporal</th>\n",
       "      <td>208</td>\n",
       "      <td>8.303393</td>\n",
       "    </tr>\n",
       "    <tr>\n",
       "      <th>Otro</th>\n",
       "      <td>92</td>\n",
       "      <td>3.672655</td>\n",
       "    </tr>\n",
       "    <tr>\n",
       "      <th>Sociedad de Responsabilidad Limitada colombiana</th>\n",
       "      <td>49</td>\n",
       "      <td>1.956088</td>\n",
       "    </tr>\n",
       "    <tr>\n",
       "      <th>Entidad Estatal de acuerdo con la definición del Decreto 1082 de 2015</th>\n",
       "      <td>36</td>\n",
       "      <td>1.437126</td>\n",
       "    </tr>\n",
       "    <tr>\n",
       "      <th>Sociedad Anónima Abierta colombiana</th>\n",
       "      <td>34</td>\n",
       "      <td>1.357285</td>\n",
       "    </tr>\n",
       "    <tr>\n",
       "      <th>Fundaciones</th>\n",
       "      <td>26</td>\n",
       "      <td>1.037924</td>\n",
       "    </tr>\n",
       "    <tr>\n",
       "      <th>Otras Entidades públicas</th>\n",
       "      <td>23</td>\n",
       "      <td>0.918164</td>\n",
       "    </tr>\n",
       "    <tr>\n",
       "      <th>Entidades sin ánimo de lucro</th>\n",
       "      <td>22</td>\n",
       "      <td>0.878244</td>\n",
       "    </tr>\n",
       "    <tr>\n",
       "      <th>Asociaciones</th>\n",
       "      <td>16</td>\n",
       "      <td>0.638723</td>\n",
       "    </tr>\n",
       "    <tr>\n",
       "      <th>Sociedad Anónima Cerrada Colombiana</th>\n",
       "      <td>15</td>\n",
       "      <td>0.598802</td>\n",
       "    </tr>\n",
       "    <tr>\n",
       "      <th>Cooperativas</th>\n",
       "      <td>11</td>\n",
       "      <td>0.439122</td>\n",
       "    </tr>\n",
       "    <tr>\n",
       "      <th>Corporaciones</th>\n",
       "      <td>10</td>\n",
       "      <td>0.399202</td>\n",
       "    </tr>\n",
       "    <tr>\n",
       "      <th>Sociedad en Comandita Simple colombiana</th>\n",
       "      <td>9</td>\n",
       "      <td>0.359281</td>\n",
       "    </tr>\n",
       "    <tr>\n",
       "      <th>No Definido</th>\n",
       "      <td>6</td>\n",
       "      <td>0.239521</td>\n",
       "    </tr>\n",
       "    <tr>\n",
       "      <th>Empresa unipersonal colombiana</th>\n",
       "      <td>5</td>\n",
       "      <td>0.199601</td>\n",
       "    </tr>\n",
       "    <tr>\n",
       "      <th>Sociedad en Comandita por Acciones colombiana</th>\n",
       "      <td>5</td>\n",
       "      <td>0.199601</td>\n",
       "    </tr>\n",
       "    <tr>\n",
       "      <th>Sucursal de Sociedad Extranjera</th>\n",
       "      <td>4</td>\n",
       "      <td>0.159681</td>\n",
       "    </tr>\n",
       "    <tr>\n",
       "      <th>Veeduria Ciudadana</th>\n",
       "      <td>4</td>\n",
       "      <td>0.159681</td>\n",
       "    </tr>\n",
       "    <tr>\n",
       "      <th>Promesa de Sociedad Futura</th>\n",
       "      <td>2</td>\n",
       "      <td>0.079840</td>\n",
       "    </tr>\n",
       "    <tr>\n",
       "      <th>Patrimonios Autónomos</th>\n",
       "      <td>2</td>\n",
       "      <td>0.079840</td>\n",
       "    </tr>\n",
       "    <tr>\n",
       "      <th>Estructura Plural</th>\n",
       "      <td>1</td>\n",
       "      <td>0.039920</td>\n",
       "    </tr>\n",
       "    <tr>\n",
       "      <th>Empresario Individual</th>\n",
       "      <td>1</td>\n",
       "      <td>0.039920</td>\n",
       "    </tr>\n",
       "    <tr>\n",
       "      <th>Institución de Educación Superior</th>\n",
       "      <td>1</td>\n",
       "      <td>0.039920</td>\n",
       "    </tr>\n",
       "    <tr>\n",
       "      <th>Persona Natural Extranjera</th>\n",
       "      <td>1</td>\n",
       "      <td>0.039920</td>\n",
       "    </tr>\n",
       "    <tr>\n",
       "      <th>Universidades</th>\n",
       "      <td>1</td>\n",
       "      <td>0.039920</td>\n",
       "    </tr>\n",
       "    <tr>\n",
       "      <th>Federaciones</th>\n",
       "      <td>1</td>\n",
       "      <td>0.039920</td>\n",
       "    </tr>\n",
       "  </tbody>\n",
       "</table>\n",
       "</div>"
      ],
      "text/plain": [
       "                                                     NIT  \\\n",
       "Tipo Empresa                                               \n",
       "Consorcio                                           1188   \n",
       "Persona Natural colombiana                           372   \n",
       "Sociedad por acciones simplificada                   360   \n",
       "Unión Temporal                                       208   \n",
       "Otro                                                  92   \n",
       "Sociedad de Responsabilidad Limitada colombiana       49   \n",
       "Entidad Estatal de acuerdo con la definición de...    36   \n",
       "Sociedad Anónima Abierta colombiana                   34   \n",
       "Fundaciones                                           26   \n",
       "Otras Entidades públicas                              23   \n",
       "Entidades sin ánimo de lucro                          22   \n",
       "Asociaciones                                          16   \n",
       "Sociedad Anónima Cerrada Colombiana                   15   \n",
       "Cooperativas                                          11   \n",
       "Corporaciones                                         10   \n",
       "Sociedad en Comandita Simple colombiana                9   \n",
       "No Definido                                            6   \n",
       "Empresa unipersonal colombiana                         5   \n",
       "Sociedad en Comandita por Acciones colombiana          5   \n",
       "Sucursal de Sociedad Extranjera                        4   \n",
       "Veeduria Ciudadana                                     4   \n",
       "Promesa de Sociedad Futura                             2   \n",
       "Patrimonios Autónomos                                  2   \n",
       "Estructura Plural                                      1   \n",
       "Empresario Individual                                  1   \n",
       "Institución de Educación Superior                      1   \n",
       "Persona Natural Extranjera                             1   \n",
       "Universidades                                          1   \n",
       "Federaciones                                           1   \n",
       "\n",
       "                                                    Porcentaje_de_Participacion  \n",
       "Tipo Empresa                                                                     \n",
       "Consorcio                                                             47.425150  \n",
       "Persona Natural colombiana                                            14.850299  \n",
       "Sociedad por acciones simplificada                                    14.371257  \n",
       "Unión Temporal                                                         8.303393  \n",
       "Otro                                                                   3.672655  \n",
       "Sociedad de Responsabilidad Limitada colombiana                        1.956088  \n",
       "Entidad Estatal de acuerdo con la definición de...                     1.437126  \n",
       "Sociedad Anónima Abierta colombiana                                    1.357285  \n",
       "Fundaciones                                                            1.037924  \n",
       "Otras Entidades públicas                                               0.918164  \n",
       "Entidades sin ánimo de lucro                                           0.878244  \n",
       "Asociaciones                                                           0.638723  \n",
       "Sociedad Anónima Cerrada Colombiana                                    0.598802  \n",
       "Cooperativas                                                           0.439122  \n",
       "Corporaciones                                                          0.399202  \n",
       "Sociedad en Comandita Simple colombiana                                0.359281  \n",
       "No Definido                                                            0.239521  \n",
       "Empresa unipersonal colombiana                                         0.199601  \n",
       "Sociedad en Comandita por Acciones colombiana                          0.199601  \n",
       "Sucursal de Sociedad Extranjera                                        0.159681  \n",
       "Veeduria Ciudadana                                                     0.159681  \n",
       "Promesa de Sociedad Futura                                             0.079840  \n",
       "Patrimonios Autónomos                                                  0.079840  \n",
       "Estructura Plural                                                      0.039920  \n",
       "Empresario Individual                                                  0.039920  \n",
       "Institución de Educación Superior                                      0.039920  \n",
       "Persona Natural Extranjera                                             0.039920  \n",
       "Universidades                                                          0.039920  \n",
       "Federaciones                                                           0.039920  "
      ]
     },
     "execution_count": 70,
     "metadata": {},
     "output_type": "execute_result"
    }
   ],
   "source": [
    "tipo_empresa_agrupados = pd.DataFrame(df.groupby('Tipo Empresa')['NIT'].count()).sort_values('NIT',ascending=False).assign(Porcentaje_de_Participacion=lambda x: (x['NIT'] / x['NIT'].sum()) * 100)\n",
    "tipo_empresa_agrupados"
   ]
  },
  {
   "cell_type": "markdown",
   "metadata": {},
   "source": [
    "Se puede evidenciar que el 47% de los proveedores registrados en Armenia, Quindío registran como Consorcios."
   ]
  },
  {
   "cell_type": "markdown",
   "metadata": {},
   "source": [
    "Vamos a ver la distribución de las mipymes registradas en Armenia, Quindío."
   ]
  },
  {
   "cell_type": "code",
   "execution_count": null,
   "metadata": {},
   "outputs": [
    {
     "data": {
      "text/html": [
       "<div>\n",
       "<style scoped>\n",
       "    .dataframe tbody tr th:only-of-type {\n",
       "        vertical-align: middle;\n",
       "    }\n",
       "\n",
       "    .dataframe tbody tr th {\n",
       "        vertical-align: top;\n",
       "    }\n",
       "\n",
       "    .dataframe thead th {\n",
       "        text-align: right;\n",
       "    }\n",
       "</style>\n",
       "<table border=\"1\" class=\"dataframe\">\n",
       "  <thead>\n",
       "    <tr style=\"text-align: right;\">\n",
       "      <th></th>\n",
       "      <th>NIT</th>\n",
       "      <th>Porcentaje_de_Participacion</th>\n",
       "    </tr>\n",
       "    <tr>\n",
       "      <th>Es Pyme</th>\n",
       "      <th></th>\n",
       "      <th></th>\n",
       "    </tr>\n",
       "  </thead>\n",
       "  <tbody>\n",
       "    <tr>\n",
       "      <th>No</th>\n",
       "      <td>1751</td>\n",
       "      <td>69.9002</td>\n",
       "    </tr>\n",
       "    <tr>\n",
       "      <th>Si</th>\n",
       "      <td>754</td>\n",
       "      <td>30.0998</td>\n",
       "    </tr>\n",
       "  </tbody>\n",
       "</table>\n",
       "</div>"
      ],
      "text/plain": [
       "          NIT  Porcentaje_de_Participacion\n",
       "Es Pyme                                   \n",
       "No       1751                      69.9002\n",
       "Si        754                      30.0998"
      ]
     },
     "execution_count": 71,
     "metadata": {},
     "output_type": "execute_result"
    }
   ],
   "source": [
    "tamaño_empresa_agrupados = pd.DataFrame(df.groupby('Es Pyme')['NIT'].count()).sort_values('NIT',ascending=False).assign(Porcentaje_de_Participacion=lambda x: (x['NIT'] / x['NIT'].sum()) * 100)\n",
    "\n",
    "tamaño_empresa_agrupados"
   ]
  },
  {
   "cell_type": "markdown",
   "metadata": {},
   "source": [
    "Ahora veamos esta misma distribución pero en una gráfica de torta."
   ]
  },
  {
   "cell_type": "code",
   "execution_count": null,
   "metadata": {},
   "outputs": [
    {
     "data": {
      "image/png": "[encoded data removed]",
      "text/plain": [
       "<Figure size 400x400 with 1 Axes>"
      ]
     },
     "metadata": {},
     "output_type": "display_data"
    }
   ],
   "source": [
    "pyme_counts = df['Es Pyme'].value_counts()\n",
    "plt.figure(figsize=(4, 4))\n",
    "plt.pie(pyme_counts, labels=pyme_counts.index, autopct='%1.1f%%', startangle=90)\n",
    "plt.title('La Empresa es Pyme')\n",
    "plt.show()"
   ]
  },
  {
   "cell_type": "markdown",
   "metadata": {},
   "source": [
    "De esta forma podemos concluir que el 30% de las empresas que están registradas en Armenia se encuentran clasificadas como PYME. "
   ]
  },
  {
   "cell_type": "markdown",
   "metadata": {},
   "source": [
    "Ahora vamos a otorgar una fecha de actualización del día de hoy."
   ]
  },
  {
   "cell_type": "code",
   "execution_count": null,
   "metadata": {},
   "outputs": [],
   "source": [
    "hoy = date.today()\n",
    "df['HOY'] = hoy\n",
    "df['HOY'] = pd.to_datetime(df['HOY'])"
   ]
  },
  {
   "cell_type": "markdown",
   "metadata": {},
   "source": [
    "Finalmente, se creará un archivo excel con esta base de datos depurada."
   ]
  },
  {
   "cell_type": "code",
   "execution_count": null,
   "metadata": {},
   "outputs": [],
   "source": [
    "excel_path='C:\\\\Users\\\\danie\\\\OneDrive\\\\Escritorio\\\\Web Scraping API - CCE\\\\df ARMENIA.xlsx'\n",
    "df.to_excel(excel_path,sheet_name='Armenia')"
   ]
  }
 ],
 "metadata": {
  "kernelspec": {
   "display_name": "Python 3",
   "language": "python",
   "name": "python3"
  },
  "language_info": {
   "codemirror_mode": {
    "name": "ipython",
    "version": 3
   },
   "file_extension": ".py",
   "mimetype": "text/x-python",
   "name": "python",
   "nbconvert_exporter": "python",
   "pygments_lexer": "ipython3",
   "version": "3.12.2"
  }
 },
 "nbformat": 4,
 "nbformat_minor": 2
}
